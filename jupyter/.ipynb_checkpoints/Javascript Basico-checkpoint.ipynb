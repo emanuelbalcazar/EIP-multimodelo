{
 "cells": [
  {
   "cell_type": "markdown",
   "metadata": {},
   "source": [
    "# SINTAXIS BASICA"
   ]
  },
  {
   "cell_type": "markdown",
   "metadata": {},
   "source": [
    "#### Declaración de variables"
   ]
  },
  {
   "cell_type": "markdown",
   "metadata": {},
   "source": [
    "Comprensión de declaraciones, nombres de variables, espacios en blanco,\n",
    "y otras sintaxis básicas de JavaScript."
   ]
  },
  {
   "cell_type": "code",
   "execution_count": null,
   "metadata": {},
   "outputs": [],
   "source": [
    "var x;\n",
    "var y = 2;\n",
    "\n",
    "console.log(y);"
   ]
  },
  {
   "cell_type": "markdown",
   "metadata": {},
   "source": [
    "Declaración de una constante"
   ]
  },
  {
   "cell_type": "code",
   "execution_count": null,
   "metadata": {},
   "outputs": [],
   "source": [
    "const t = 1234;"
   ]
  },
  {
   "cell_type": "markdown",
   "metadata": {},
   "source": [
    "Declaracion de cadenas"
   ]
  },
  {
   "cell_type": "code",
   "execution_count": null,
   "metadata": {},
   "outputs": [],
   "source": [
    "var hello = 'hello';\n",
    "console.log(hello);"
   ]
  },
  {
   "cell_type": "markdown",
   "metadata": {},
   "source": [
    "#### Operadores Basicos"
   ]
  },
  {
   "cell_type": "markdown",
   "metadata": {},
   "source": [
    "Los operadores básicos permiten manipular valores."
   ]
  },
  {
   "cell_type": "code",
   "execution_count": null,
   "metadata": {},
   "outputs": [],
   "source": [
    "var foo = 'hello';\n",
    "var bar = 'world';\n",
    "\n",
    "console.log(foo + ' ' + bar);\n"
   ]
  },
  {
   "cell_type": "markdown",
   "metadata": {},
   "source": [
    "Multiplicación y división"
   ]
  },
  {
   "cell_type": "code",
   "execution_count": null,
   "metadata": {},
   "outputs": [],
   "source": [
    "var a = 2 * 3;\n",
    "var b = 10 / 2;"
   ]
  },
  {
   "cell_type": "markdown",
   "metadata": {},
   "source": [
    "Incrementación y decrementación de valores"
   ]
  },
  {
   "cell_type": "code",
   "execution_count": null,
   "metadata": {},
   "outputs": [],
   "source": [
    "var i = 1;\n",
    "var j = i++;\n",
    "var k = ++i;\n",
    "\n",
    "console.log(i);\n",
    "console.log(j);\n",
    "console.log(k);"
   ]
  },
  {
   "cell_type": "markdown",
   "metadata": {},
   "source": [
    "Suma vs concatenación"
   ]
  },
  {
   "cell_type": "code",
   "execution_count": null,
   "metadata": {},
   "outputs": [],
   "source": [
    "var foo = 1;\n",
    "var bar = '2';\n",
    "console.log(foo + bar);"
   ]
  },
  {
   "cell_type": "code",
   "execution_count": null,
   "metadata": {},
   "outputs": [],
   "source": [
    "var foo = 1;\n",
    "var bar = '2';\n",
    "\n",
    "// el constructor 'Number' obliga a la cadena comportarse como un número.\n",
    "console.log(foo + Number(bar));"
   ]
  },
  {
   "cell_type": "markdown",
   "metadata": {},
   "source": [
    "#### Operadores Logicos"
   ]
  },
  {
   "cell_type": "markdown",
   "metadata": {},
   "source": [
    "Los operadores lógicos permiten evaluar una serie de operandos utilizando operaciones AND y OR."
   ]
  },
  {
   "cell_type": "code",
   "execution_count": null,
   "metadata": {},
   "outputs": [],
   "source": [
    "var foo = 1;\n",
    "var bar = 0;\n",
    "\n",
    "// El operador || (OR lógico) devuelve el valor del primer operando, si éste es verdadero.\n",
    "console.log(foo || bar)\n",
    "\n",
    "// El operador && (AND lógico) devuelve el valor del primer operando si éste es falso\n",
    "console.log(foo && bar)"
   ]
  },
  {
   "cell_type": "markdown",
   "metadata": {},
   "source": [
    "#### Operadores de Comparación"
   ]
  },
  {
   "cell_type": "markdown",
   "metadata": {},
   "source": [
    "Los operadores de comparación permiten comprobar si determinados valores son equivalentes o idénticos."
   ]
  },
  {
   "cell_type": "code",
   "execution_count": null,
   "metadata": {},
   "outputs": [],
   "source": [
    "var foo = 1;\n",
    "var bar = 0;\n",
    "var baz = '1';\n",
    "var bim = 2;"
   ]
  },
  {
   "cell_type": "code",
   "execution_count": null,
   "metadata": {},
   "outputs": [],
   "source": [
    "foo == bar; // devuelve falso (false)\n",
    "foo != bar; // devuelve verdadero (true)\n",
    "foo == baz; // devuelve verdadero (true); tengan cuidado!"
   ]
  },
  {
   "cell_type": "code",
   "execution_count": null,
   "metadata": {},
   "outputs": [],
   "source": [
    "foo === baz; // devuelve falso (false)\n",
    "foo !== baz; // devuelve verdadero (true)\n",
    "foo === parseInt(baz); // devuelve verdadero (true)"
   ]
  },
  {
   "cell_type": "code",
   "execution_count": null,
   "metadata": {},
   "outputs": [],
   "source": [
    "foo > bim;   // devuelve falso (false)\n",
    "bim > baz;   // devuelve verdadero (true)\n",
    "foo <= baz;  // devuelve verdadero (true)"
   ]
  },
  {
   "cell_type": "markdown",
   "metadata": {},
   "source": [
    "#### Codigo Condicional"
   ]
  },
  {
   "cell_type": "markdown",
   "metadata": {},
   "source": [
    "A veces se desea ejecutar un bloque de código bajo ciertas condiciones.\n",
    "Las estructuras de control de flujo — a través de la utilización de las declaraciones if y else permiten hacerlo."
   ]
  },
  {
   "cell_type": "code",
   "execution_count": null,
   "metadata": {},
   "outputs": [],
   "source": [
    "var foo = true;\n",
    "var bar = false;\n",
    "\n",
    "if (bar) {\n",
    "    // este código NO se ejecutará\n",
    "    console.log('bar!');\n",
    "}\n",
    "\n",
    "if (!bar) {\n",
    "    // este código SI se ejecutará\n",
    "    console.log('!bar!');\n",
    "}"
   ]
  },
  {
   "cell_type": "markdown",
   "metadata": {},
   "source": [
    "#### Elementos Verdaderos y Falsos"
   ]
  },
  {
   "cell_type": "markdown",
   "metadata": {},
   "source": [
    "Para controlar el flujo adecuadamente, es importante entender qué tipos de valores son \"verdaderos\"\n",
    "y cuales \"falsos\". A veces, algunos valores pueden parecer una cosa pero al final terminan siendo otra."
   ]
  },
  {
   "cell_type": "code",
   "execution_count": null,
   "metadata": {},
   "outputs": [],
   "source": [
    "//  valores que devuelven verdadero (true)\n",
    "'0';          // una cadena de texto cuyo valor sea 0\n",
    "'any string'; // cualquier cadena\n",
    "[];           // un array vacío\n",
    "{ };           // un objeto vacío\n",
    "1;            // cualquier número distinto a cero"
   ]
  },
  {
   "cell_type": "code",
   "execution_count": null,
   "metadata": {},
   "outputs": [],
   "source": [
    "// valores que devuelven falso (false)\n",
    "0;\n",
    "'';        // una cadena vacía\n",
    "NaN;       // la variable JavaScript \"not-a-number\" (No es un número)\n",
    "null;      // un valor nulo\n",
    "undefined; // tenga cuidado -- indefinido (undefined) puede ser redefinido"
   ]
  },
  {
   "cell_type": "markdown",
   "metadata": {},
   "source": [
    "#### Variables Condicionales"
   ]
  },
  {
   "cell_type": "markdown",
   "metadata": {},
   "source": [
    "A veces se desea establecer el valor de una variable dependiendo de cierta condición.\n",
    "Para hacerlo se puede utilizar una declaración if/else, sin embargo en muchos casos es más conveniente utilizar el operador ternario.\n",
    "Definición: El operador ternario evalúa una condición;\n",
    "si la condición es verdadera, devuelve cierto valor, caso contrario devuelve un valor diferente."
   ]
  },
  {
   "cell_type": "code",
   "execution_count": null,
   "metadata": {},
   "outputs": [],
   "source": [
    "var bar = true;\n",
    "var foo = bar ? 1 : 0;\n",
    "\n",
    "console.log(foo);"
   ]
  },
  {
   "cell_type": "markdown",
   "metadata": {},
   "source": [
    "#### Bucles"
   ]
  },
  {
   "cell_type": "markdown",
   "metadata": {},
   "source": [
    "Los bucles (en inglés loops) permiten ejecutar un bloque de código un determinado número de veces."
   ]
  },
  {
   "cell_type": "code",
   "execution_count": null,
   "metadata": {},
   "outputs": [],
   "source": [
    "for (var i = 0; i < 5; i++) {\n",
    "    console.log('intento ' + i);\n",
    "}"
   ]
  },
  {
   "cell_type": "code",
   "execution_count": null,
   "metadata": {},
   "outputs": [],
   "source": [
    "var i = 0;\n",
    "\n",
    "while (i < 10) {\n",
    "    // Este bloque de código se ejecutará 100 veces\n",
    "    console.log('Actualmente en ' + i);\n",
    "    i++; // incrementa la variable i\n",
    "}"
   ]
  },
  {
   "cell_type": "markdown",
   "metadata": {},
   "source": [
    "#### Arrays"
   ]
  },
  {
   "cell_type": "markdown",
   "metadata": {},
   "source": [
    "Los arrays (en inglés arrays) son listas de valores con índice-cero (en inglés zero-index), es decir,\n",
    "que el primer elemento del array está en el índice 0.\n",
    "Estos son una forma práctica de almacenar un conjunto de datos relacionados (como cadenas de caracteres),\n",
    "aunque en realidad, un array puede incluir múltiples tipos de datos, incluso otros arrays."
   ]
  },
  {
   "cell_type": "markdown",
   "metadata": {},
   "source": [
    "Imprimo un item en particular"
   ]
  },
  {
   "cell_type": "code",
   "execution_count": null,
   "metadata": {},
   "outputs": [],
   "source": [
    "var myArray = ['hello', 'world', 'foo', 'bar'];\n",
    "\n",
    "console.log(myArray[3]);"
   ]
  },
  {
   "cell_type": "markdown",
   "metadata": {},
   "source": [
    "Imprimo la longitud del arreglo"
   ]
  },
  {
   "cell_type": "code",
   "execution_count": null,
   "metadata": {},
   "outputs": [],
   "source": [
    "var myArray = ['hello', 'world'];\n",
    "\n",
    "console.log(myArray.length);"
   ]
  },
  {
   "cell_type": "markdown",
   "metadata": {},
   "source": [
    "Reemplazo el valor de un item en una posición"
   ]
  },
  {
   "cell_type": "code",
   "execution_count": null,
   "metadata": {},
   "outputs": [],
   "source": [
    "var myArray = ['hello', 'world'];\n",
    "myArray[1] = 'changed';\n",
    "\n",
    "console.log(myArray);"
   ]
  },
  {
   "cell_type": "markdown",
   "metadata": {},
   "source": [
    "Agrego un nuevo item al arreglo"
   ]
  },
  {
   "cell_type": "code",
   "execution_count": null,
   "metadata": {},
   "outputs": [],
   "source": [
    "var myArray = ['hello', 'world'];\n",
    "myArray.push('new');\n",
    "\n",
    "console.log(myArray);"
   ]
  },
  {
   "cell_type": "markdown",
   "metadata": {},
   "source": [
    "La funcion JOIN une los valores del arreglo en una cadena"
   ]
  },
  {
   "cell_type": "code",
   "execution_count": null,
   "metadata": {},
   "outputs": [],
   "source": [
    "var myArray = ['h', 'e', 'l', 'l', 'o'];\n",
    "var myString = myArray.join('');   // 'hello'\n",
    "\n",
    "console.log(myString);\n"
   ]
  },
  {
   "cell_type": "markdown",
   "metadata": {},
   "source": [
    "La funcion SPLIT separa los caracteres por el delimitador indicado en el parametro"
   ]
  },
  {
   "cell_type": "code",
   "execution_count": 58,
   "metadata": {},
   "outputs": [
    {
     "name": "stdout",
     "output_type": "stream",
     "text": [
      "[ 'h', 'e', 'l', 'l', 'o' ]\n"
     ]
    }
   ],
   "source": [
    "var myString = 'hello';\n",
    "var mySplit = myString.split('');  // [ 'h', 'e', 'l', 'l', 'o' ]\n",
    "\n",
    "console.log(mySplit);"
   ]
  },
  {
   "cell_type": "markdown",
   "metadata": {},
   "source": [
    "#### Objetos"
   ]
  },
  {
   "cell_type": "markdown",
   "metadata": {},
   "source": [
    "Los objetos son elementos que pueden contener cero o más conjuntos de pares de nombres claves y valores asociados a dicho objeto.\n",
    "Los nombres claves pueden ser cualquier palabra o número válido.\n",
    "El valor puede ser cualquier tipo de valor: un número, una cadena, un array, una función, incluso otro objeto."
   ]
  },
  {
   "cell_type": "code",
   "execution_count": null,
   "metadata": {},
   "outputs": [],
   "source": [
    "var myObject = {\n",
    "    sayHello: function () {\n",
    "        console.log('hello');\n",
    "    },\n",
    "    myName: 'Rebecca'\n",
    "};"
   ]
  },
  {
   "cell_type": "markdown",
   "metadata": {},
   "source": [
    "llamada a la funcion declarada en el objeto"
   ]
  },
  {
   "cell_type": "code",
   "execution_count": null,
   "metadata": {},
   "outputs": [],
   "source": [
    "myObject.sayHello();"
   ]
  },
  {
   "cell_type": "markdown",
   "metadata": {},
   "source": [
    "se llama a la propiedad myName, la cual muestra en la consola 'Rebecca'"
   ]
  },
  {
   "cell_type": "code",
   "execution_count": null,
   "metadata": {},
   "outputs": [],
   "source": [
    "console.log(myObject.myName);"
   ]
  },
  {
   "cell_type": "markdown",
   "metadata": {},
   "source": [
    "#### Funciones"
   ]
  },
  {
   "cell_type": "markdown",
   "metadata": {},
   "source": [
    "Las funciones contienen bloques de código que se ejecutaran repetidamente.\n",
    "A las mismas se le pueden pasar argumentos, y opcionalmente la función puede devolver un valor."
   ]
  },
  {
   "cell_type": "code",
   "execution_count": null,
   "metadata": {},
   "outputs": [],
   "source": [
    "function foo() { /* hacer algo */ }\n",
    "\n",
    "var foo = function () { /* hacer algo */ }"
   ]
  },
  {
   "cell_type": "markdown",
   "metadata": {},
   "source": [
    "utilizacion de una funcion simple."
   ]
  },
  {
   "cell_type": "code",
   "execution_count": null,
   "metadata": {},
   "outputs": [],
   "source": [
    "var greet = function (person, greeting) {\n",
    "    var text = greeting + ', ' + person;\n",
    "    console.log(text);\n",
    "};"
   ]
  },
  {
   "cell_type": "code",
   "execution_count": null,
   "metadata": {},
   "outputs": [],
   "source": [
    "greet('Rebecca', 'Hello');"
   ]
  },
  {
   "cell_type": "markdown",
   "metadata": {},
   "source": [
    "utilizacion de una funcion que devuelve un valor."
   ]
  },
  {
   "cell_type": "code",
   "execution_count": null,
   "metadata": {},
   "outputs": [],
   "source": [
    "var greet = function (person, greeting) {\n",
    "    var text = greeting + ', ' + person;\n",
    "    return text;\n",
    "};"
   ]
  },
  {
   "cell_type": "code",
   "execution_count": null,
   "metadata": {},
   "outputs": [],
   "source": [
    "console.log(greet('Rebecca', 'hello'));"
   ]
  },
  {
   "cell_type": "markdown",
   "metadata": {},
   "source": [
    "Utilizacion de una funcion que devuelve otra funcion.\n",
    "La función devuelve 'Hello, Rebecca', la cual se muestra en la consola"
   ]
  },
  {
   "cell_type": "code",
   "execution_count": null,
   "metadata": {},
   "outputs": [],
   "source": [
    "var greet = function (person, greeting) {\n",
    "    var text = greeting + ', ' + person;\n",
    "    return function () { console.log(text); };\n",
    "};"
   ]
  },
  {
   "cell_type": "code",
   "execution_count": null,
   "metadata": {},
   "outputs": [],
   "source": [
    "var greeting = greet('Rebecca', 'Hello');\n",
    "greeting();"
   ]
  },
  {
   "cell_type": "markdown",
   "metadata": {},
   "source": [
    "#### Funciones Anonimas"
   ]
  },
  {
   "cell_type": "markdown",
   "metadata": {},
   "source": [
    " Son equivalentes a las funciones comunes solo que no se declaran con la palabra reservada \"function\".\n",
    " Se suelen utilizar para funciones que se declaran en el \"momento\"."
   ]
  },
  {
   "cell_type": "code",
   "execution_count": null,
   "metadata": {},
   "outputs": [],
   "source": [
    "var div;\n",
    "\n",
    "div = function (a, b) {\n",
    "    return a / b;\n",
    "}\n",
    "\n",
    "div = (a, b) => {\n",
    "    return a / b;\n",
    "}"
   ]
  },
  {
   "cell_type": "code",
   "execution_count": null,
   "metadata": {},
   "outputs": [],
   "source": [
    "console.log(div(10, 2));"
   ]
  },
  {
   "cell_type": "markdown",
   "metadata": {},
   "source": [
    "#### Callback"
   ]
  },
  {
   "cell_type": "markdown",
   "metadata": {},
   "source": [
    "O tambien llamadas funciones de retrollamada, se pasan como parametro a otra funcion que luego la ejecutará\n",
    "cuando termine su ejecución."
   ]
  },
  {
   "cell_type": "markdown",
   "metadata": {},
   "source": [
    "declaro la funcion que se va a ejecutar cuando la multiplicacion se termine de realizar.\n",
    "los callback siempre siguen el patron de error - resultado"
   ]
  },
  {
   "cell_type": "code",
   "execution_count": null,
   "metadata": {},
   "outputs": [],
   "source": [
    "var print = function (error, result) {\n",
    "    console.log('[print] - Despues de multiplicar:', result);\n",
    "}"
   ]
  },
  {
   "cell_type": "markdown",
   "metadata": {},
   "source": [
    "defino la funcion que quiero ejecutar, ahora ademas de los operandos recibe una funcion de retorno."
   ]
  },
  {
   "cell_type": "code",
   "execution_count": null,
   "metadata": {},
   "outputs": [],
   "source": [
    "var mult = function (a, b, callback) {\n",
    "    var result = a * b;\n",
    "    callback(false, result);\n",
    "}"
   ]
  },
  {
   "cell_type": "markdown",
   "metadata": {},
   "source": [
    "llamo a la funcion multiplicar y le paso la funcion de retorno."
   ]
  },
  {
   "cell_type": "code",
   "execution_count": null,
   "metadata": {},
   "outputs": [],
   "source": [
    "mult(2, 5, print);"
   ]
  },
  {
   "cell_type": "markdown",
   "metadata": {},
   "source": [
    "o tambien puedo..."
   ]
  },
  {
   "cell_type": "code",
   "execution_count": null,
   "metadata": {},
   "outputs": [],
   "source": [
    "mult(2, 6, function (error, result) {\n",
    "    console.log('[mult] - Despues de multiplicar:', result);\n",
    "});"
   ]
  },
  {
   "cell_type": "markdown",
   "metadata": {},
   "source": [
    "ulala señor frances, funciones anonimas, incorporadas recientemente en javascript e incluso en java."
   ]
  },
  {
   "cell_type": "code",
   "execution_count": null,
   "metadata": {},
   "outputs": [],
   "source": [
    "mult(2, 7, (error, result) => {\n",
    "    console.log('[mult] - Despues de multiplicar:', result);\n",
    "});"
   ]
  }
 ],
 "metadata": {
  "kernelspec": {
   "display_name": "Javascript (Node.js)",
   "language": "javascript",
   "name": "javascript"
  },
  "language_info": {
   "file_extension": ".js",
   "mimetype": "application/javascript",
   "name": "javascript",
   "version": "8.10.0"
  }
 },
 "nbformat": 4,
 "nbformat_minor": 2
}
